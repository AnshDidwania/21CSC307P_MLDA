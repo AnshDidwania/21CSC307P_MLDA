{
  "nbformat": 4,
  "nbformat_minor": 0,
  "metadata": {
    "colab": {
      "provenance": []
    },
    "kernelspec": {
      "name": "python3",
      "display_name": "Python 3"
    },
    "language_info": {
      "name": "python"
    }
  },
  "cells": [
    {
      "cell_type": "code",
      "source": [
        "import pandas as pd\n",
        "import numpy as np\n",
        "from sklearn.impute import SimpleImputer\n",
        "from sklearn.preprocessing import OneHotEncoder, StandardScaler\n",
        "from sklearn.compose import ColumnTransformer\n",
        "from sklearn.pipeline import Pipeline\n",
        "from sklearn.model_selection import train_test_split\n",
        "\n",
        "# Step 1: Load the dataset\n",
        "df = pd.read_csv(\"preprocessing_efficiency_dataset.csv\")\n",
        "print(\"Initial Dataset:\\n\", df.head())\n",
        "\n",
        "# Step 2: Drop ID column (not useful for training)\n",
        "df.drop(\"ID\", axis=1, inplace=True)\n",
        "\n",
        "# Step 3: Define target variable\n",
        "# Let's predict Processing_Time_ms based on text features\n",
        "X = df.drop(\"Processing_Time_ms\", axis=1)\n",
        "y = df[\"Processing_Time_ms\"]\n",
        "\n",
        "# Step 4: Identify column types\n",
        "numerical_cols = [\"Contains_Numbers\", \"Contains_SpecialChars\", \"Cleaned_Text_Length\"]\n",
        "categorical_cols = [\"Raw_Text\"]\n",
        "\n",
        "# Step 5: Define imputers\n",
        "num_imputer = SimpleImputer(strategy=\"mean\")\n",
        "cat_imputer = SimpleImputer(strategy=\"most_frequent\")\n",
        "\n",
        "# Step 6: Preprocessing pipeline\n",
        "preprocessor = ColumnTransformer(\n",
        "    transformers=[\n",
        "        ('num', Pipeline([\n",
        "            ('imputer', num_imputer),\n",
        "            ('scaler', StandardScaler())\n",
        "        ]), numerical_cols),\n",
        "\n",
        "        ('cat', Pipeline([\n",
        "            ('imputer', cat_imputer),\n",
        "            ('encoder', OneHotEncoder(handle_unknown='ignore'))\n",
        "        ]), categorical_cols)\n",
        "    ]\n",
        ")\n",
        "\n",
        "# Step 7: Handle missing target values\n",
        "data = pd.concat([X, y], axis=1)\n",
        "data.dropna(subset=[\"Processing_Time_ms\"], inplace=True)\n",
        "\n",
        "# Step 8: Update X and y after dropping\n",
        "X = data.drop(\"Processing_Time_ms\", axis=1)\n",
        "y = data[\"Processing_Time_ms\"]\n",
        "\n",
        "# Step 9: Feature Engineering – Text Length (extra feature)\n",
        "X[\"Raw_Text_Length\"] = X[\"Raw_Text\"].str.len()\n",
        "\n",
        "# Step 10: Train-test split\n",
        "X_train, X_test, y_train, y_test = train_test_split(X, y, test_size=0.2, random_state=42)\n",
        "\n",
        "# Step 11: Fit-transform data\n",
        "X_train_processed = preprocessor.fit_transform(X_train)\n",
        "X_test_processed = preprocessor.transform(X_test)\n",
        "\n",
        "# Final shapes\n",
        "print(\"X_train shape:\", X_train_processed.shape)\n",
        "print(\"X_test shape:\", X_test_processed.shape)\n",
        "print(\"y_train shape:\", y_train.shape)\n"
      ],
      "metadata": {
        "id": "p1STC87NYRlD",
        "colab": {
          "base_uri": "https://localhost:8080/"
        },
        "outputId": "fb1f9ffe-dcd4-4a8b-ffeb-373fa953d970"
      },
      "execution_count": 1,
      "outputs": [
        {
          "output_type": "stream",
          "name": "stdout",
          "text": [
            "Initial Dataset:\n",
            "    ID                  Raw_Text  Contains_Numbers  Contains_SpecialChars  \\\n",
            "0   1     efficiency testing                    0                      0   \n",
            "1   2      123Numbers and words                 0                      1   \n",
            "2   3  Data   Science  is great                 0                      1   \n",
            "3   4  Data   Science  is great                 0                      0   \n",
            "4   5     efficiency testing                    0                      0   \n",
            "\n",
            "   Processing_Time_ms  Cleaned_Text_Length  \n",
            "0                 112                   11  \n",
            "1                 189                   13  \n",
            "2                 102                   28  \n",
            "3                  24                    5  \n",
            "4                 116                   48  \n",
            "X_train shape: (80, 13)\n",
            "X_test shape: (20, 13)\n",
            "y_train shape: (80,)\n"
          ]
        }
      ]
    }
  ]
}