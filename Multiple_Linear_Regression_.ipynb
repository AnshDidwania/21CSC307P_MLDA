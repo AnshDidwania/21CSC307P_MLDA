{
  "nbformat": 4,
  "nbformat_minor": 0,
  "metadata": {
    "colab": {
      "provenance": []
    },
    "kernelspec": {
      "name": "python3",
      "display_name": "Python 3"
    },
    "language_info": {
      "name": "python"
    }
  },
  "cells": [
    {
      "cell_type": "code",
      "execution_count": 1,
      "metadata": {
        "colab": {
          "base_uri": "https://localhost:8080/"
        },
        "id": "CQMlvXvf4Z1k",
        "outputId": "c31a56db-072d-47a2-ec4a-70d05875e5a4"
      },
      "outputs": [
        {
          "output_type": "stream",
          "name": "stdout",
          "text": [
            "   Day  Stock_Volume   Sales  RBI_Interest_Rate  High_Performance\n",
            "0    1          8270   69457               6.24                 0\n",
            "1    2          1860  128953               5.53                 1\n",
            "2    3          6390  102995               7.89                 0\n",
            "3    4          6191   59692               7.40                 0\n",
            "4    5          6734   87065               6.89                 0\n",
            "Linear Regression MSE: 0.0740\n",
            "Linear Regression R2: 0.6917\n"
          ]
        }
      ],
      "source": [
        "import pandas as pd\n",
        "from sklearn.model_selection import train_test_split\n",
        "from sklearn.linear_model import LinearRegression\n",
        "from sklearn.metrics import mean_squared_error, r2_score\n",
        "\n",
        "# Load dataset\n",
        "data = pd.read_csv('stock_sales_interest_dataset.csv')\n",
        "print(data.head())\n",
        "\n",
        "# Features (independent variables) and target (dependent variable)\n",
        "X = data[['Stock_Volume', 'Sales', 'RBI_Interest_Rate']]\n",
        "y = data['High_Performance']   # Predicting performance (0 or 1)\n",
        "\n",
        "# Split dataset into train and test sets\n",
        "X_train, X_test, y_train, y_test = train_test_split(\n",
        "    X, y, test_size=0.2, random_state=42\n",
        ")\n",
        "\n",
        "# Initialize and train Linear Regression model\n",
        "model = LinearRegression()\n",
        "model.fit(X_train, y_train)\n",
        "\n",
        "# Predict on test data\n",
        "y_pred = model.predict(X_test)\n",
        "\n",
        "# Evaluate the model\n",
        "mse = mean_squared_error(y_test, y_pred)\n",
        "r2 = r2_score(y_test, y_pred)\n",
        "\n",
        "print(f\"Linear Regression MSE: {mse:.4f}\")\n",
        "print(f\"Linear Regression R2: {r2:.4f}\")\n"
      ]
    }
  ]
}