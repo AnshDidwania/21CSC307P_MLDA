{
  "nbformat": 4,
  "nbformat_minor": 0,
  "metadata": {
    "colab": {
      "provenance": []
    },
    "kernelspec": {
      "name": "python3",
      "display_name": "Python 3"
    },
    "language_info": {
      "name": "python"
    }
  },
  "cells": [
    {
      "cell_type": "code",
      "execution_count": null,
      "metadata": {
        "colab": {
          "base_uri": "https://localhost:8080/"
        },
        "id": "H8uHJFn21jSl",
        "outputId": "b097439e-04f5-436a-ca92-87c8a7d997ad"
      },
      "outputs": [
        {
          "output_type": "stream",
          "name": "stdout",
          "text": [
            "Columns available: ['Day', 'Stock_Volume', 'Sales', 'RBI_Interest_Rate', 'High_Performance']\n",
            "Logistic Regression Accuracy: 0.9000\n",
            "\n",
            "Confusion Matrix:\n",
            " [[6 0]\n",
            " [1 3]]\n",
            "\n",
            "Classification Report:\n",
            "               precision    recall  f1-score   support\n",
            "\n",
            "           0       0.86      1.00      0.92         6\n",
            "           1       1.00      0.75      0.86         4\n",
            "\n",
            "    accuracy                           0.90        10\n",
            "   macro avg       0.93      0.88      0.89        10\n",
            "weighted avg       0.91      0.90      0.90        10\n",
            "\n"
          ]
        }
      ],
      "source": [
        "import pandas as pd\n",
        "from sklearn.model_selection import train_test_split\n",
        "from sklearn.linear_model import LogisticRegression\n",
        "from sklearn.metrics import accuracy_score, confusion_matrix, classification_report\n",
        "from sklearn.impute import SimpleImputer\n",
        "\n",
        "# Load dataset\n",
        "data = pd.read_csv(\"stock_sales_interest_dataset.csv\")\n",
        "print(\"Columns available:\", data.columns.tolist())\n",
        "\n",
        "# Drop unnecessary column\n",
        "data = data.drop([\"Day\"], axis=1)\n",
        "\n",
        "# Fill missing values if any (numeric imputation)\n",
        "imputer = SimpleImputer(strategy=\"mean\")\n",
        "data[[\"Stock_Volume\", \"Sales\", \"RBI_Interest_Rate\"]] = imputer.fit_transform(\n",
        "    data[[\"Stock_Volume\", \"Sales\", \"RBI_Interest_Rate\"]]\n",
        ")\n",
        "\n",
        "# Feature matrix and target variable\n",
        "X = data.drop(\"High_Performance\", axis=1)\n",
        "y = data[\"High_Performance\"]\n",
        "\n",
        "# Split data\n",
        "X_train, X_test, y_train, y_test = train_test_split(\n",
        "    X, y, test_size=0.2, random_state=42\n",
        ")\n",
        "\n",
        "# Train Logistic Regression\n",
        "lr = LogisticRegression(max_iter=1000)\n",
        "lr.fit(X_train, y_train)\n",
        "\n",
        "# Predict and evaluate\n",
        "y_pred = lr.predict(X_test)\n",
        "accuracy = accuracy_score(y_test, y_pred)\n",
        "print(f\"Logistic Regression Accuracy: {accuracy:.4f}\")\n",
        "\n",
        "# Extra: show confusion matrix and classification report\n",
        "print(\"\\nConfusion Matrix:\\n\", confusion_matrix(y_test, y_pred))\n",
        "print(\"\\nClassification Report:\\n\", classification_report(y_test, y_pred))\n"
      ]
    }
  ]
}